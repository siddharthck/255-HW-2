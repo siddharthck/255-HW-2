{
 "cells": [
  {
   "cell_type": "code",
   "execution_count": 1,
   "id": "73da32d8-2982-4242-9924-5870c756f4df",
   "metadata": {},
   "outputs": [
    {
     "name": "stdout",
     "output_type": "stream",
     "text": [
      "Requirement already satisfied: scikit-learn in /home/ec2-user/anaconda3/envs/JupyterSystemEnv/lib/python3.10/site-packages (1.6.1)\n",
      "Requirement already satisfied: numpy>=1.19.5 in /home/ec2-user/anaconda3/envs/JupyterSystemEnv/lib/python3.10/site-packages (from scikit-learn) (1.26.4)\n",
      "Requirement already satisfied: scipy>=1.6.0 in /home/ec2-user/anaconda3/envs/JupyterSystemEnv/lib/python3.10/site-packages (from scikit-learn) (1.15.3)\n",
      "Requirement already satisfied: joblib>=1.2.0 in /home/ec2-user/anaconda3/envs/JupyterSystemEnv/lib/python3.10/site-packages (from scikit-learn) (1.5.0)\n",
      "Requirement already satisfied: threadpoolctl>=3.1.0 in /home/ec2-user/anaconda3/envs/JupyterSystemEnv/lib/python3.10/site-packages (from scikit-learn) (3.6.0)\n"
     ]
    }
   ],
   "source": [
    "!pip install scikit-learn\n"
   ]
  },
  {
   "cell_type": "code",
   "execution_count": 3,
   "id": "d5bc4cb0-ad91-46ec-9619-9be6f7eba5fd",
   "metadata": {},
   "outputs": [
    {
     "name": "stdout",
     "output_type": "stream",
     "text": [
      "RAPIDS cuML Logistic Regression\n",
      "Accuracy: 0.8658\n",
      "Training time: 0.0286 seconds\n"
     ]
    }
   ],
   "source": [
    "import cuml\n",
    "import cupy as cp\n",
    "import pandas as pd\n",
    "from cuml.linear_model import LogisticRegression\n",
    "from cuml.metrics import accuracy_score\n",
    "import time\n",
    "\n",
    "# Load and preprocess dataset\n",
    "df = pd.read_csv(\"https://archive.ics.uci.edu/static/public/891/data.csv\")\n",
    "df = df.drop(columns=[\"ID\"])\n",
    "X = df.drop(columns=[\"Diabetes_binary\"]).values\n",
    "y = df[\"Diabetes_binary\"].values\n",
    "\n",
    "# Standard scaling using cuDF (optional but can use sklearn too)\n",
    "from sklearn.preprocessing import StandardScaler\n",
    "from sklearn.model_selection import train_test_split\n",
    "\n",
    "scaler = StandardScaler()\n",
    "X_scaled = scaler.fit_transform(X)\n",
    "X_train, X_test, y_train, y_test = train_test_split(X_scaled, y, test_size=0.2, random_state=42)\n",
    "\n",
    "# Convert to cupy arrays for RAPIDS\n",
    "X_train_gpu = cp.asarray(X_train)\n",
    "X_test_gpu = cp.asarray(X_test)\n",
    "y_train_gpu = cp.asarray(y_train)\n",
    "y_test_gpu = cp.asarray(y_test)\n",
    "\n",
    "# Train RAPIDS Logistic Regression\n",
    "start = time.time()\n",
    "clf = LogisticRegression()\n",
    "clf.fit(X_train_gpu, y_train_gpu)\n",
    "end = time.time()\n",
    "\n",
    "# Predict and evaluate\n",
    "y_pred_gpu = clf.predict(X_test_gpu)\n",
    "acc = accuracy_score(y_test_gpu, y_pred_gpu)\n",
    "\n",
    "print(\"RAPIDS cuML Logistic Regression\")\n",
    "print(f\"Accuracy: {float(acc):.4f}\")\n",
    "print(f\"Training time: {end - start:.4f} seconds\")\n"
   ]
  },
  {
   "cell_type": "code",
   "execution_count": 4,
   "id": "80213236-b3b8-48e9-bec6-d71861a99b6f",
   "metadata": {},
   "outputs": [
    {
     "name": "stderr",
     "output_type": "stream",
     "text": [
      "/home/ec2-user/anaconda3/envs/rapids/lib/python3.10/site-packages/cuml/internals/api_decorators.py:342: UserWarning: For reproducible results in Random Forest Classifier or for almost reproducible results in Random Forest Regressor, n_streams=1 is recommended. If n_streams is > 1, results may vary due to stream/thread timing differences, even when random_state is set\n",
      "  return func(**kwargs)\n",
      "/home/ec2-user/anaconda3/envs/rapids/lib/python3.10/site-packages/cuml/internals/api_decorators.py:190: UserWarning: To use pickling first train using float32 data to fit the estimator\n",
      "  ret = func(*args, **kwargs)\n"
     ]
    },
    {
     "name": "stdout",
     "output_type": "stream",
     "text": [
      "🚀 RAPIDS cuML Random Forest\n",
      "Accuracy: 0.8662\n",
      "Training time: 2.3145 seconds\n"
     ]
    }
   ],
   "source": [
    "from cuml.ensemble import RandomForestClassifier as cuRF\n",
    "from cuml.metrics import accuracy_score\n",
    "import cupy as cp\n",
    "\n",
    "# Convert data to GPU arrays\n",
    "X_train_gpu = cp.asarray(X_train)\n",
    "X_test_gpu = cp.asarray(X_test)\n",
    "y_train_gpu = cp.asarray(y_train)\n",
    "y_test_gpu = cp.asarray(y_test)\n",
    "\n",
    "# RAPIDS Random Forest\n",
    "start = time.time()\n",
    "clf = cuRF(n_estimators=100, max_depth=10, random_state=42)\n",
    "clf.fit(X_train_gpu, y_train_gpu)\n",
    "end = time.time()\n",
    "\n",
    "y_pred_gpu = clf.predict(X_test_gpu)\n",
    "acc = accuracy_score(y_test_gpu, y_pred_gpu)\n",
    "\n",
    "print(\"🚀 RAPIDS cuML Random Forest\")\n",
    "print(f\"Accuracy: {float(acc):.4f}\")\n",
    "print(f\"Training time: {end - start:.4f} seconds\")\n"
   ]
  }
 ],
 "metadata": {
  "kernelspec": {
   "display_name": "Python (RAPIDS)",
   "language": "python",
   "name": "rapids"
  },
  "language_info": {
   "codemirror_mode": {
    "name": "ipython",
    "version": 3
   },
   "file_extension": ".py",
   "mimetype": "text/x-python",
   "name": "python",
   "nbconvert_exporter": "python",
   "pygments_lexer": "ipython3",
   "version": "3.10.17"
  }
 },
 "nbformat": 4,
 "nbformat_minor": 5
}
